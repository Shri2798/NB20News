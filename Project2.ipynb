{
 "cells": [
  {
   "cell_type": "code",
   "execution_count": 1,
   "id": "ec544389",
   "metadata": {},
   "outputs": [],
   "source": [
    "import os\n",
    "import string\n",
    "import numpy as np\n",
    "from sklearn import model_selection\n",
    "from sklearn.naive_bayes import MultinomialNB"
   ]
  },
  {
   "cell_type": "code",
   "execution_count": 2,
   "id": "e6ecd73f",
   "metadata": {},
   "outputs": [],
   "source": [
    "X = []\n",
    "Y = [] \n",
    "for category in os.listdir('20_newsgroups'):\n",
    "#https://realpython.com/working-with-files-in-python/\n",
    "    for document in os.listdir('20_newsgroups/'+category):\n",
    "        with open('20_newsgroups/'+category+'/'+document, \"r\") as f:\n",
    "            X.append((document,f.read()))\n",
    "            Y.append(category)"
   ]
  },
  {
   "cell_type": "code",
   "execution_count": 3,
   "id": "ab36aede",
   "metadata": {},
   "outputs": [],
   "source": [
    "for category in os.listdir('20_newsgroups'):\n",
    "    for document in os.listdir('20_newsgroups/'+category):\n",
    "        with open('20_newsgroups/'+category+'/'+document, \"r\") as f:\n",
    "            X.append((document,f.read()))\n",
    "            Y.append(category)"
   ]
  },
  {
   "cell_type": "code",
   "execution_count": 4,
   "id": "7681aacd",
   "metadata": {},
   "outputs": [],
   "source": [
    "X_train, X_test, Y_train, Y_test = model_selection.train_test_split(X, Y, test_size=0.50, random_state=0)"
   ]
  },
  {
   "cell_type": "code",
   "execution_count": 5,
   "id": "bbdd0a0a",
   "metadata": {},
   "outputs": [],
   "source": [
    "# A list of common english words which should not affect predictions\n",
    "stopwords = ['a', 'about', 'above', 'after', 'again', 'against', 'all', 'am', 'an', 'and', 'any', 'are', \"aren't\", 'as', 'at',\n",
    " 'be', 'because', 'been', 'before', 'being', 'below', 'between', 'both', 'but', 'by', \n",
    " 'can', \"can't\", 'cannot', 'could', \"couldn't\", 'did', \"didn't\", 'do', 'does', \"doesn't\", 'doing', \"don't\", 'down', 'during',\n",
    " 'each', 'few', 'for', 'from', 'further', \n",
    " 'had', \"hadn't\", 'has', \"hasn't\", 'have', \"haven't\", 'having', 'he', \"he'd\", \"he'll\", \"he's\", 'her', 'here', \"here's\",\n",
    " 'hers', 'herself', 'him', 'himself', 'his', 'how', \"how's\",\n",
    " 'i', \"i'd\", \"i'll\", \"i'm\", \"i've\", 'if', 'in', 'into', 'is', \"isn't\", 'it', \"it's\", 'its', 'itself',\n",
    " \"let's\", 'me', 'more', 'most', \"mustn't\", 'my', 'myself',\n",
    " 'no', 'nor', 'not', 'of', 'off', 'on', 'once', 'only', 'or', 'other', 'ought', 'our', 'ours' 'ourselves', 'out', 'over', 'own',\n",
    " 'same', \"shan't\", 'she', \"she'd\", \"she'll\", \"she's\", 'should', \"shouldn't\", 'so', 'some', 'such', \n",
    " 'than', 'that',\"that's\", 'the', 'their', 'theirs', 'them', 'themselves', 'then', 'there', \"there's\", 'these', 'they', \"they'd\", \n",
    " \"they'll\", \"they're\", \"they've\", 'this', 'those', 'through', 'to', 'too', 'under', 'until', 'up', 'very', \n",
    " 'was', \"wasn't\", 'we', \"we'd\", \"we'll\", \"we're\", \"we've\", 'were', \"weren't\", 'what', \"what's\", 'when', \"when's\", 'where',\n",
    " \"where's\", 'which', 'while', 'who', \"who's\", 'whom', 'why', \"why's\",'will', 'with', \"won't\", 'would', \"wouldn't\", \n",
    " 'you', \"you'd\", \"you'll\", \"you're\", \"you've\", 'your', 'yours', 'yourself', 'yourselves', \n",
    " 'one', 'two', 'three', 'four', 'five', 'six', 'seven', 'eight', 'nine', 'ten', 'hundred', 'thousand', '1st', '2nd', '3rd',\n",
    " '4th', '5th', '6th', '7th', '8th', '9th', '10th']"
   ]
  },
  {
   "cell_type": "code",
   "execution_count": 6,
   "id": "4acdcbab",
   "metadata": {},
   "outputs": [],
   "source": [
    "vocab = {}\n",
    "for i in range(len(X_train)):\n",
    "    word_list = []\n",
    "    for word in X_train[i][1].split():\n",
    "        word_new  = word.strip(string.punctuation).lower()\n",
    "        if (len(word_new)>2)  and (word_new not in stopwords):  \n",
    "            if word_new in vocab:\n",
    "                vocab[word_new]+=1\n",
    "            else:\n",
    "                vocab[word_new]=1        "
   ]
  },
  {
   "cell_type": "code",
   "execution_count": 7,
   "id": "7c368781",
   "metadata": {},
   "outputs": [],
   "source": [
    "features = []\n",
    "for key in vocab:\n",
    "    features.append(key)\n",
    "features=features[0:2000]"
   ]
  },
  {
   "cell_type": "code",
   "execution_count": 8,
   "id": "2b2f9fa1",
   "metadata": {},
   "outputs": [],
   "source": [
    "X_train_data = np.zeros((len(X_train),len(features)))\n",
    "for i in range(len(X_train)):\n",
    "    word_list = [ word.strip(string.punctuation).lower() for word in X_train[i][1].split()]\n",
    "    for word in word_list:\n",
    "        if word in features:\n",
    "            X_train_data[i][features.index(word)] += 1"
   ]
  },
  {
   "cell_type": "code",
   "execution_count": 9,
   "id": "18d8e67a",
   "metadata": {},
   "outputs": [],
   "source": [
    "X_test_data = np.zeros((len(X_test),len(features)))\n",
    "for i in range(len(X_test)):\n",
    "    word_list = [ word.strip(string.punctuation).lower() for word in X_test[i][1].split()]\n",
    "    for word in word_list:\n",
    "        if word in features:\n",
    "            X_test_data[i][features.index(word)] += 1"
   ]
  },
  {
   "cell_type": "code",
   "execution_count": 11,
   "id": "1b7c0efa",
   "metadata": {},
   "outputs": [
    {
     "name": "stdout",
     "output_type": "stream",
     "text": [
      "Sklearn's score on training data : 0.8200230034505176\n",
      "Sklearn's score on testing data : 0.7872180827124069\n"
     ]
    }
   ],
   "source": [
    "# Using Multinomial Naive Bayes\n",
    "clf = MultinomialNB()\n",
    "clf.fit(X_train_data,Y_train)\n",
    "Y_test_pred = clf.predict(X_test_data)\n",
    "sklearn_score_train = clf.score(X_train_data,Y_train)\n",
    "print(\"Sklearn's score on training data :\",sklearn_score_train)\n",
    "sklearn_score_test = clf.score(X_test_data,Y_test)\n",
    "print(\"Sklearn's score on testing data :\",sklearn_score_test)"
   ]
  },
  {
   "cell_type": "code",
   "execution_count": 18,
   "id": "8ad29258",
   "metadata": {},
   "outputs": [],
   "source": [
    "# Implementing Multinomial Naive Bayes from scratch\n",
    "class MultinomialNaiveBayes:\n",
    "    \n",
    "    def __init__(self):\n",
    "         \n",
    "        self.count = {}\n",
    "        self.classes = None\n",
    "    \n",
    "    def fit(self,X_train,Y_train):     \n",
    "        self.classes = set(Y_train)\n",
    "        for class_l in self.classes:\n",
    "            self.count[class_l] = {}\n",
    "            for i in range(len(X_train[0])):\n",
    "                self.count[class_l][i] = 0\n",
    "            self.count[class_l]['total'] = 0\n",
    "            self.count[class_l]['total_score'] = 0\n",
    "        self.count['total_score'] = len(X_train)\n",
    "        \n",
    "        for i in range(len(X_train)):\n",
    "            for j in range(len(X_train[0])):\n",
    "                self.count[Y_train[i]][j]+=X_train[i][j]\n",
    "                self.count[Y_train[i]]['total']+=X_train[i][j]\n",
    "            self.count[Y_train[i]]['total_score']+=1\n",
    "    \n",
    "    def probability(self,test_score,class_l):\n",
    "        \n",
    "        log_prob = np.log(self.count[class_l]['total_score']) - np.log(self.count['total_score'])\n",
    "        total_words = len(test_score)\n",
    "        for i in range(len(test_score)):\n",
    "            current_word_prob = test_score[i]*(np.log(self.count[class_l][i]+1)-np.log(self.count[class_l]['total']+total_words))\n",
    "            log_prob += current_word_prob\n",
    "        \n",
    "        return log_prob\n",
    "    \n",
    "    \n",
    "    def predictSingle_Point(self,test_score):\n",
    "        \n",
    "        best_class = None\n",
    "        best_prob = None\n",
    "        first_run = True\n",
    "        \n",
    "        for class_l in self.classes:\n",
    "            log_probability_current_class = self.probability(test_score,class_l)\n",
    "            if (first_run) or (log_probability_current_class > best_prob) :\n",
    "                best_class = class_l\n",
    "                best_prob = log_probability_current_class\n",
    "                first_run = False\n",
    "                \n",
    "        return best_class\n",
    "        \n",
    "  \n",
    "    def predict(self,X_test):\n",
    "        Y_pred = [] \n",
    "        for i in range(len(X_test)):\n",
    "            Y_pred.append( self.predictSingle_Point(X_test[i]) )\n",
    "        \n",
    "        return Y_pred\n",
    "    \n",
    "    def score(self,Y_pred,Y_true):\n",
    "        count = 0\n",
    "        for i in range(len(Y_pred)):\n",
    "            if Y_pred[i] == Y_true[i]:\n",
    "                count+=1\n",
    "        return count/len(Y_pred)"
   ]
  },
  {
   "cell_type": "code",
   "execution_count": null,
   "id": "22b61f4f",
   "metadata": {},
   "outputs": [],
   "source": [
    "our_clf = MultinomialNaiveBayes()\n",
    "our_clf.fit(X_train_data,Y_train)\n",
    "Y_test_pred = our_clf.predict(X_test_data)\n",
    "our_score_test = our_clf.score(Y_test_pred,Y_test)  \n",
    "print(\"Our score on testing data :\",our_score_test)"
   ]
  },
  {
   "cell_type": "code",
   "execution_count": null,
   "id": "85cdc6f6",
   "metadata": {},
   "outputs": [],
   "source": []
  }
 ],
 "metadata": {
  "kernelspec": {
   "display_name": "Python 3 (ipykernel)",
   "language": "python",
   "name": "python3"
  },
  "language_info": {
   "codemirror_mode": {
    "name": "ipython",
    "version": 3
   },
   "file_extension": ".py",
   "mimetype": "text/x-python",
   "name": "python",
   "nbconvert_exporter": "python",
   "pygments_lexer": "ipython3",
   "version": "3.8.8"
  }
 },
 "nbformat": 4,
 "nbformat_minor": 5
}
